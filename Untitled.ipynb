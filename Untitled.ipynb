{
 "cells": [
  {
   "cell_type": "code",
   "execution_count": 150,
   "metadata": {},
   "outputs": [],
   "source": [
    "import random\n",
    "import matplotlib.pyplot as plt \n",
    "import numpy as np\n",
    "from itertools import permutations"
   ]
  },
  {
   "cell_type": "code",
   "execution_count": 5,
   "metadata": {},
   "outputs": [
    {
     "name": "stdout",
     "output_type": "stream",
     "text": [
      "0.42259407259407256\n",
      "0.03622810783400194\n"
     ]
    }
   ],
   "source": [
    "l1 = 1\n",
    "l2 = 10\n",
    "\n",
    "expected = 0 #матожидание\n",
    "for k in range(1,6): \n",
    "        expected+= 1.0/(l2 +(k-1)*l1)\n",
    "print(expected) \n",
    "\n",
    "dispersion = 0\n",
    "for k in range(1,6): \n",
    "        dispersion+= 1.0/(l2 +(k-1)*l1)**2\n",
    "print(dispersion) \n",
    "\n",
    "def light_res_sim(main = 1,reserved_alive = 4):\n",
    "    time = 0\n",
    "    is_working = 1\n",
    "    while is_working:\n",
    "        is_working=0\n",
    "        time_lived = random.expovariate(l2)\n",
    "        #print(reserved_alive)\n",
    "        if reserved_alive >0:\n",
    "            for i in range(0,reserved_alive):\n",
    "              reserved_time = random.expovariate(l1)\n",
    "              if reserved_time <= time_lived:\n",
    "                  reserved_alive -= 1\n",
    "        time += time_lived\n",
    "        if reserved_alive>0:\n",
    "          reserved_alive -= 1\n",
    "          is_working=1\n",
    "\n",
    "    return time\n",
    "        "
   ]
  },
  {
   "cell_type": "code",
   "execution_count": 6,
   "metadata": {},
   "outputs": [],
   "source": [
    "def lln(n):\n",
    "    sum = 0\n",
    "    expected = 0\n",
    "    for k in range(1,5):\n",
    "        expected += 1.0/(l1+(k-1)*l2)\n",
    "    nums = []\n",
    "    for i in range(1,n+1):\n",
    "        sum+=light_res_sim()\n",
    "        nums.append(\n",
    "            sum/i)\n",
    "    plt.plot(nums,'ro') \n",
    "    plt.show"
   ]
  },
  {
   "cell_type": "code",
   "execution_count": null,
   "metadata": {},
   "outputs": [],
   "source": [
    "def find_dist_normal (values, bins, pdf,step):\n",
    "  len_bins = len(bins) -1 \n",
    "  Total_Area= sum(values[0:len_bins])/sum(values)\n",
    "  dif = 0\n",
    "  len_pdf = len(pdf)\n",
    "  for i in range (0,len_bins//2,3):\n",
    "    dif+=abs(simps(pdf[i:i+3], dx = step) - sum(values[i:i+3])/sum(values))\n",
    "  return dif\n",
    "\n",
    "def draw_density(arr, tr=0,x=1, real_density = 1, number_bins = 100):\n",
    "    values, bins, _  = plt.hist(arr, density=True, bins=number_bins, color = \"green\")\n",
    "    len_bins= len(bins)-1\n",
    "    step = (np.max(arr)-np.min(arr))/number_bins\n",
    "    print(find_dist_normal(values, bins, real_density,step))\n",
    "    #print(bins)\n",
    "#here is the totaly area under your histogram, which is supposed to be 1 as you want = suming up all the values for of all bins\n",
    "    #Total_Area= sum(values[0:len_bins])/sum(values)\n",
    "#so now lets say you want to have half of the area\n",
    "    #Half_Area= sum(values[0:len_bins//2])/sum(values)\n",
    "    #print(Half_Area)\n",
    "    if tr:\n",
    "      plt.plot(x, real_density, color = \"red\")\n",
    "      plt.legend([\"Real density\", \"Sample density\"])\n",
    "    else:\n",
    "      plt.legend([\"Sample density\"])\n",
    "\n",
    "    plt.show()\n",
    "\n",
    "def clt(n):\n",
    "  k=10000\n",
    "  number_bins = 100\n",
    "  num = []\n",
    "  for i in range(0,k):\n",
    "    sum=0\n",
    "    for i in range(0,n):\n",
    "      sum+=light_res_sim()\n",
    "    num.append((sum-n*expected)/(n*dispersion)**0.5)\n",
    "  step = (np.max(num)-np.min(num))/number_bins\n",
    "  data = np.arange(np.min(num),np.max(num),step)\n",
    "  pdf = ss.norm.pdf(x=data,loc = 0 , scale = 1 )\n",
    "  \n",
    "  draw_density(num,1,x = data, real_density = pdf)\n",
    "\n",
    "  \n",
    "    \n",
    "  "
   ]
  },
  {
   "cell_type": "code",
   "execution_count": 7,
   "metadata": {},
   "outputs": [
    {
     "name": "stdout",
     "output_type": "stream",
     "text": [
      "0.35116550116550116\n"
     ]
    },
    {
     "data": {
      "image/png": "[encoded data removed]",
      "text/plain": [
       "<Figure size 432x288 with 1 Axes>"
      ]
     },
     "metadata": {
      "needs_background": "light"
     },
     "output_type": "display_data"
    }
   ],
   "source": [
    "lln(10000)\n",
    "expected = 0\n",
    "for k in range(1,5):\n",
    "        expected+= 1.0/(l2+(k-1)*l1)\n",
    "print(expected)"
   ]
  },
  {
   "cell_type": "code",
   "execution_count": 8,
   "metadata": {},
   "outputs": [
    {
     "ename": "SyntaxError",
     "evalue": "invalid syntax (<ipython-input-8-19cfea6a6486>, line 1)",
     "output_type": "error",
     "traceback": [
      "\u001b[1;36m  File \u001b[1;32m\"<ipython-input-8-19cfea6a6486>\"\u001b[1;36m, line \u001b[1;32m1\u001b[0m\n\u001b[1;33m    Вторая часть\u001b[0m\n\u001b[1;37m           ^\u001b[0m\n\u001b[1;31mSyntaxError\u001b[0m\u001b[1;31m:\u001b[0m invalid syntax\n"
     ]
    }
   ],
   "source": [
    "Вторая часть"
   ]
  },
  {
   "cell_type": "code",
   "execution_count": 128,
   "metadata": {},
   "outputs": [
    {
     "data": {
      "text/plain": [
       "array([1, 2, 2, 4])"
      ]
     },
     "execution_count": 128,
     "metadata": {},
     "output_type": "execute_result"
    }
   ],
   "source": [
    "l1 = np.array([1,2,2,4])\n",
    "l2 = np.array([5,5,7,11])\n",
    "a = 1\n",
    "np.nonzero(l1)\n",
    "l1"
   ]
  },
  {
   "cell_type": "code",
   "execution_count": 134,
   "metadata": {},
   "outputs": [],
   "source": [
    "def light2 (l1,l2):\n",
    "    time = 0\n",
    "    is_working = 1\n",
    "    work_num = 0\n",
    "    reserved_alive = 3\n",
    "    c1 = l1.copy()\n",
    "    c1[0] = 0\n",
    "    while is_working:\n",
    "        is_working = 0\n",
    "        #print('jopa')\n",
    "        time_lived = random.expovariate(l2[work_num])\n",
    "        arr = np.nonzero(c1)[0] \n",
    "        for i in np.nonzero(c1)[0]:\n",
    "            reserved_time = random.expovariate(c1[i])\n",
    "            if reserved_time <= time_lived:\n",
    "                c1[i] = 0\n",
    "                reserved_alive-=1\n",
    "            time+= time_lived\n",
    "            if reserved_alive>0:\n",
    "                reserved_alive-=1\n",
    "                work_num = min(np.nonzero(c1)[0])\n",
    "                c1[work_num] = 0\n",
    "                is_working = 1\n",
    "    return time\n"
   ]
  },
  {
   "cell_type": "code",
   "execution_count": 141,
   "metadata": {},
   "outputs": [
    {
     "data": {
      "text/plain": [
       "0.28910167894632594"
      ]
     },
     "execution_count": 141,
     "metadata": {},
     "output_type": "execute_result"
    }
   ],
   "source": [
    "light2(l1,l2)"
   ]
  },
  {
   "cell_type": "code",
   "execution_count": 154,
   "metadata": {},
   "outputs": [
    {
     "name": "stdout",
     "output_type": "stream",
     "text": [
      "(1, 2, 3, 4)\n",
      "(1, 2, 4, 3)\n",
      "(1, 3, 2, 4)\n",
      "(1, 3, 4, 2)\n",
      "(1, 4, 2, 3)\n",
      "(1, 4, 3, 2)\n",
      "(2, 1, 3, 4)\n",
      "(2, 1, 4, 3)\n",
      "(2, 3, 1, 4)\n",
      "(2, 3, 4, 1)\n",
      "(2, 4, 1, 3)\n",
      "(2, 4, 3, 1)\n",
      "(3, 1, 2, 4)\n",
      "(3, 1, 4, 2)\n",
      "(3, 2, 1, 4)\n",
      "(3, 2, 4, 1)\n",
      "(3, 4, 1, 2)\n",
      "(3, 4, 2, 1)\n",
      "(4, 1, 2, 3)\n",
      "(4, 1, 3, 2)\n",
      "(4, 2, 1, 3)\n",
      "(4, 2, 3, 1)\n",
      "(4, 3, 1, 2)\n",
      "(4, 3, 2, 1)\n",
      "(5, 5, 7, 11)\n",
      "(5, 5, 11, 7)\n",
      "(5, 7, 5, 11)\n",
      "(5, 7, 11, 5)\n",
      "(5, 11, 5, 7)\n",
      "(5, 11, 7, 5)\n",
      "(5, 5, 7, 11)\n",
      "(5, 5, 11, 7)\n",
      "(5, 7, 5, 11)\n",
      "(5, 7, 11, 5)\n",
      "(5, 11, 5, 7)\n",
      "(5, 11, 7, 5)\n",
      "(7, 5, 5, 11)\n",
      "(7, 5, 11, 5)\n",
      "(7, 5, 5, 11)\n",
      "(7, 5, 11, 5)\n",
      "(7, 11, 5, 5)\n",
      "(7, 11, 5, 5)\n",
      "(11, 5, 5, 7)\n",
      "(11, 5, 7, 5)\n",
      "(11, 5, 5, 7)\n",
      "(11, 5, 7, 5)\n",
      "(11, 7, 5, 5)\n",
      "(11, 7, 5, 5)\n"
     ]
    }
   ],
   "source": [
    "temp = permutations([1,2,3,4])\n",
    "for i in temp:\n",
    "    print(i)\n",
    "temp1 = permutations(l2)\n",
    "for i in temp1:\n",
    "    print(i)"
   ]
  },
  {
   "cell_type": "code",
   "execution_count": 121,
   "metadata": {},
   "outputs": [
    {
     "data": {
      "text/plain": [
       "1"
      ]
     },
     "execution_count": 121,
     "metadata": {},
     "output_type": "execute_result"
    }
   ],
   "source": []
  },
  {
   "cell_type": "code",
   "execution_count": null,
   "metadata": {},
   "outputs": [],
   "source": []
  },
  {
   "cell_type": "code",
   "execution_count": null,
   "metadata": {},
   "outputs": [],
   "source": []
  }
 ],
 "metadata": {
  "kernelspec": {
   "display_name": "Python 3",
   "language": "python",
   "name": "python3"
  },
  "language_info": {
   "codemirror_mode": {
    "name": "ipython",
    "version": 3
   },
   "file_extension": ".py",
   "mimetype": "text/x-python",
   "name": "python",
   "nbconvert_exporter": "python",
   "pygments_lexer": "ipython3",
   "version": "3.8.5"
  }
 },
 "nbformat": 4,
 "nbformat_minor": 4
}
